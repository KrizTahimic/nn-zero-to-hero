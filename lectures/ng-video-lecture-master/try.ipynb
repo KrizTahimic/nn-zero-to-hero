{
 "cells": [
  {
   "cell_type": "code",
   "execution_count": 2,
   "metadata": {},
   "outputs": [],
   "source": [
    "import torch"
   ]
  },
  {
   "cell_type": "code",
   "execution_count": 30,
   "metadata": {},
   "outputs": [
    {
     "name": "stdout",
     "output_type": "stream",
     "text": [
      "tensor([[-0.3772, -0.9121,  1.0657,  0.4292],\n",
      "        [-0.4530,  1.9046,  0.1726,  0.2308],\n",
      "        [-0.3237, -1.4366, -0.7782, -1.2020]])\n"
     ]
    }
   ],
   "source": [
    "idx = torch.randn((3,4))\n",
    "block_size =2\n",
    "print(idx)\n",
    "\n"
   ]
  },
  {
   "cell_type": "code",
   "execution_count": 31,
   "metadata": {},
   "outputs": [
    {
     "name": "stdout",
     "output_type": "stream",
     "text": [
      "tensor([[ 0.4292],\n",
      "        [ 0.2308],\n",
      "        [-1.2020]])\n"
     ]
    }
   ],
   "source": [
    "print(idx[:, -1:])"
   ]
  },
  {
   "cell_type": "code",
   "execution_count": 9,
   "metadata": {},
   "outputs": [
    {
     "name": "stdout",
     "output_type": "stream",
     "text": [
      "tensor([[[ 2.4433, -0.1172,  0.8518, -0.8324,  0.7827],\n",
      "         [-0.7824,  2.2360,  1.5032, -0.1692,  1.4627],\n",
      "         [ 0.7133,  0.0896, -0.0311,  0.7539, -0.4452]],\n",
      "\n",
      "        [[-0.8244, -0.4705,  1.1765, -2.4396, -1.3097],\n",
      "         [ 1.7844,  0.1692,  0.1082,  0.4637, -0.5365],\n",
      "         [ 0.5586,  1.4038,  0.9603, -0.4364,  0.8677]],\n",
      "\n",
      "        [[ 0.1854, -0.2607, -1.0432,  0.0247, -1.5309],\n",
      "         [-0.8444, -2.1971, -2.0088,  0.6204,  1.1548],\n",
      "         [-0.2947, -0.9316,  0.4653, -0.2065,  0.6638]]])\n"
     ]
    }
   ],
   "source": [
    "print(idx[:, 1:])"
   ]
  },
  {
   "cell_type": "code",
   "execution_count": 10,
   "metadata": {},
   "outputs": [],
   "source": [
    "a = torch.randn((3))"
   ]
  },
  {
   "cell_type": "code",
   "execution_count": 17,
   "metadata": {},
   "outputs": [
    {
     "name": "stdout",
     "output_type": "stream",
     "text": [
      "tensor([-0.3215,  0.5386, -0.5245])\n",
      "tensor(0.5386)\n",
      "tensor([ 0.5386, -0.5245])\n",
      "tensor([-0.3215,  0.5386])\n",
      "tensor([-0.3215,  0.5386])\n"
     ]
    }
   ],
   "source": [
    "print(a)\n",
    "print(a[1])\n",
    "print(a[1:])\n",
    "print(a[:-1])\n",
    "print(a[:2])"
   ]
  },
  {
   "cell_type": "code",
   "execution_count": 18,
   "metadata": {},
   "outputs": [],
   "source": [
    "b = torch.randn((3,4))"
   ]
  },
  {
   "cell_type": "code",
   "execution_count": 21,
   "metadata": {},
   "outputs": [
    {
     "name": "stdout",
     "output_type": "stream",
     "text": [
      "tensor([[ 1.2766, -0.7999, -2.0364,  0.8804],\n",
      "        [-1.1129, -0.6584, -0.4914, -1.3118],\n",
      "        [ 0.8225,  0.2058,  0.2323, -1.5200]])\n",
      "tensor([-1.1129, -0.6584, -0.4914, -1.3118])\n",
      "tensor([[-1.1129, -0.6584, -0.4914, -1.3118],\n",
      "        [ 0.8225,  0.2058,  0.2323, -1.5200]])\n"
     ]
    }
   ],
   "source": [
    "print(b)\n",
    "print(b[1])\n",
    "print(b[1:])"
   ]
  },
  {
   "cell_type": "code",
   "execution_count": 22,
   "metadata": {},
   "outputs": [
    {
     "name": "stdout",
     "output_type": "stream",
     "text": [
      "tensor([-0.6584, -0.4914])\n"
     ]
    }
   ],
   "source": [
    "print(b[1,1:3])"
   ]
  },
  {
   "cell_type": "code",
   "execution_count": 28,
   "metadata": {},
   "outputs": [
    {
     "name": "stdout",
     "output_type": "stream",
     "text": [
      "tensor([[ 0.8804],\n",
      "        [-1.3118],\n",
      "        [-1.5200]])\n"
     ]
    }
   ],
   "source": [
    "print(b[:,-1:])"
   ]
  },
  {
   "cell_type": "code",
   "execution_count": 29,
   "metadata": {},
   "outputs": [
    {
     "name": "stdout",
     "output_type": "stream",
     "text": [
      "tensor([[ 0.8804],\n",
      "        [-1.3118],\n",
      "        [-1.5200]])\n"
     ]
    }
   ],
   "source": [
    "print(b[:,3:])"
   ]
  },
  {
   "cell_type": "code",
   "execution_count": null,
   "metadata": {},
   "outputs": [],
   "source": []
  }
 ],
 "metadata": {
  "kernelspec": {
   "display_name": "nanoGPT",
   "language": "python",
   "name": "python3"
  },
  "language_info": {
   "codemirror_mode": {
    "name": "ipython",
    "version": 3
   },
   "file_extension": ".py",
   "mimetype": "text/x-python",
   "name": "python",
   "nbconvert_exporter": "python",
   "pygments_lexer": "ipython3",
   "version": "3.12.2"
  }
 },
 "nbformat": 4,
 "nbformat_minor": 2
}
