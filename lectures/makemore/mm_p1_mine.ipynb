{
 "cells": [
  {
   "cell_type": "code",
   "execution_count": 1,
   "metadata": {},
   "outputs": [
    {
     "name": "stdout",
     "output_type": "stream",
     "text": [
      "3\n"
     ]
    }
   ],
   "source": [
    "plus = lambda x, y: x + y\n",
    "\n",
    "print(plus(1, 2))"
   ]
  },
  {
   "cell_type": "code",
   "execution_count": 2,
   "metadata": {},
   "outputs": [
    {
     "name": "stdout",
     "output_type": "stream",
     "text": [
      "[3, 16, 9]\n"
     ]
    }
   ],
   "source": [
    "List = [[2,3,4],[1, 4, 16, 64],[3, 6, 9, 12]]\n",
    "\n",
    "sortList = lambda x: (sorted(i) for i in x)\n",
    "secondLargest = lambda x, f : [y[len(y)-2] for y in f(x)]\n",
    "res = secondLargest(List, sortList)\n",
    "\n",
    "print(res)\n"
   ]
  },
  {
   "cell_type": "code",
   "execution_count": 10,
   "metadata": {},
   "outputs": [
    {
     "name": "stdout",
     "output_type": "stream",
     "text": [
      "[3, 16, 9]\n",
      "9\n"
     ]
    }
   ],
   "source": [
    "List = [[2,3,4],[1, 4, 16, 64],[3, 6, 9, 12]]\n",
    "\n",
    "def sortList(x):\n",
    "    out = (sorted(i) for i in x)\n",
    "    return out\n",
    "\n",
    "def secondLargest(x, f):\n",
    "    out = [y[len(y)-2] for y in f(x)]\n",
    "\n",
    "    return out\n",
    "\n",
    "res = secondLargest(List, sortList)\n",
    "\n",
    "print(res)\n",
    "print(List[2][4-2])"
   ]
  },
  {
   "cell_type": "code",
   "execution_count": 8,
   "metadata": {},
   "outputs": [
    {
     "name": "stdout",
     "output_type": "stream",
     "text": [
      "11\n"
     ]
    }
   ],
   "source": []
  },
  {
   "cell_type": "code",
   "execution_count": 11,
   "metadata": {},
   "outputs": [
    {
     "name": "stdout",
     "output_type": "stream",
     "text": [
      "10\n",
      "20\n",
      "30\n",
      "40\n"
     ]
    }
   ],
   "source": [
    "is_even_list = [lambda arg=x: arg * 10 for x in range(1, 5)]\n",
    "for item in is_even_list:\n",
    "    print(item())"
   ]
  },
  {
   "cell_type": "code",
   "execution_count": 14,
   "metadata": {},
   "outputs": [
    {
     "name": "stdout",
     "output_type": "stream",
     "text": [
      "10\n",
      "20\n",
      "30\n",
      "40\n"
     ]
    }
   ],
   "source": [
    "is_even_list = []\n",
    "\n",
    "for x in range(1, 5):\n",
    "    is_even_list.append(lambda arg=x: arg * 10)\n",
    "\n",
    "\n",
    "for item in is_even_list:\n",
    "    print(item())"
   ]
  },
  {
   "cell_type": "code",
   "execution_count": 18,
   "metadata": {},
   "outputs": [
    {
     "data": {
      "text/plain": [
       "tensor([[1., 2., 0.],\n",
       "        [0., 0., 0.]])"
      ]
     },
     "execution_count": 18,
     "metadata": {},
     "output_type": "execute_result"
    }
   ],
   "source": [
    "import torch\n",
    "\n",
    "x  = torch.zeros(2, 3)\n",
    "x[0, 0] = 1\n",
    "x[0][1] = 2\n",
    "x"
   ]
  },
  {
   "cell_type": "code",
   "execution_count": 21,
   "metadata": {},
   "outputs": [
    {
     "data": {
      "text/plain": [
       "tensor([0.8942, 0.1206, 0.2495])"
      ]
     },
     "execution_count": 21,
     "metadata": {},
     "output_type": "execute_result"
    }
   ],
   "source": [
    "g = torch.Generator().manual_seed(2247483647)\n",
    "p = torch.rand(3, generator=g)\n",
    "p"
   ]
  },
  {
   "cell_type": "code",
   "execution_count": null,
   "metadata": {},
   "outputs": [],
   "source": []
  }
 ],
 "metadata": {
  "kernelspec": {
   "display_name": "nanoGPT",
   "language": "python",
   "name": "python3"
  },
  "language_info": {
   "codemirror_mode": {
    "name": "ipython",
    "version": 3
   },
   "file_extension": ".py",
   "mimetype": "text/x-python",
   "name": "python",
   "nbconvert_exporter": "python",
   "pygments_lexer": "ipython3",
   "version": "3.12.2"
  }
 },
 "nbformat": 4,
 "nbformat_minor": 2
}
